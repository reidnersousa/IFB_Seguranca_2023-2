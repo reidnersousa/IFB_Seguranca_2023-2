{
  "nbformat": 4,
  "nbformat_minor": 0,
  "metadata": {
    "colab": {
      "provenance": [],
      "authorship_tag": "ABX9TyNr9ZQvwp2Pwt+QSvOcb1D/",
      "include_colab_link": true
    },
    "kernelspec": {
      "name": "python3",
      "display_name": "Python 3"
    },
    "language_info": {
      "name": "python"
    }
  },
  "cells": [
    {
      "cell_type": "markdown",
      "metadata": {
        "id": "view-in-github",
        "colab_type": "text"
      },
      "source": [
        "<a href=\"https://colab.research.google.com/github/reidnersousa/IFB_Seguranca_2023-2/blob/main/RSA.ipynb\" target=\"_parent\"><img src=\"https://colab.research.google.com/assets/colab-badge.svg\" alt=\"Open In Colab\"/></a>"
      ]
    },
    {
      "cell_type": "code",
      "source": [
        "def mdc(a,b):\n",
        "  if(a==0):\n",
        "    return b\n",
        "  return mdc(b % a,a)\n",
        "\n",
        "def gera_e(phi):\n",
        "  e=2\n",
        "  while e <phi:\n",
        "    if(mdc(e,phi)==1):\n",
        "      break\n",
        "    else:\n",
        "      e = e + 1\n",
        "      print(e)\n",
        "  return e\n",
        "\n",
        "def gera_chave_privada(p,q):\n",
        "  phi = (p-1)*(q-1)\n",
        "  k =2\n",
        "  e=gera_e(phi)\n",
        "  chave_privada = (k *phi+1)//e\n",
        "  print(type(chave_privada))\n",
        "  return chave_privada\n"
      ],
      "metadata": {
        "id": "p2bxKIiiLTzv"
      },
      "execution_count": null,
      "outputs": []
    },
    {
      "cell_type": "code",
      "source": [
        "\n",
        "\n",
        "# Crie números inteiros de tamanho arbitrário\n",
        "p = 17\n",
        "q = 23\n",
        "#chave_publica = Decimal(p*q)\n",
        "chave_publica = p*q\n",
        "phi=(p-1)*(q-1)\n",
        "chave_privada=gera_chave_privada(p,q)\n",
        "print(\"chave publica\", chave_publica,\"phi\",phi,\"chave privada\",chave_privada)\n",
        "print(\"tipo\", type(chave_publica),\"tipo\",type(phi),\"tipo\",type(chave_privada))\n"
      ],
      "metadata": {
        "colab": {
          "base_uri": "https://localhost:8080/"
        },
        "id": "3kg5yB2FMl_B",
        "outputId": "ce1c6ba2-7e6e-4380-e242-092deabcbfe9"
      },
      "execution_count": null,
      "outputs": [
        {
          "output_type": "stream",
          "name": "stdout",
          "text": [
            "3\n",
            "<class 'int'>\n",
            "chave publica 391 phi 352 chave privada 235\n",
            "tipo <class 'int'> tipo <class 'int'> tipo <class 'int'>\n"
          ]
        }
      ]
    },
    {
      "cell_type": "code",
      "source": [
        "# Função para converter uma string em número usando a tabela ASCII\n",
        "def string_para_numero(string):\n",
        "    numero = 0\n",
        "    lista_numero=[]\n",
        "    for caractere in string:\n",
        "        valor_ascii = ord(caractere)\n",
        "        numero =valor_ascii  # A tabela ASCII possui 128 caracteres\n",
        "        lista_numero.append(numero)\n",
        "        print(numero)\n",
        "    return lista_numero\n",
        "\n",
        "# Exemplo de uso\n",
        "string = \"Hello\"\n",
        "numero = string_para_numero(string)\n",
        "print(\"String:\", string)\n",
        "print(\"Número:\", numero)\n"
      ],
      "metadata": {
        "colab": {
          "base_uri": "https://localhost:8080/"
        },
        "id": "4iD-UBlmjQHV",
        "outputId": "3bec2b1c-acb6-4562-b2d2-31408942862a"
      },
      "execution_count": null,
      "outputs": [
        {
          "output_type": "stream",
          "name": "stdout",
          "text": [
            "72\n",
            "101\n",
            "108\n",
            "108\n",
            "111\n",
            "String: Hello\n",
            "Número: [72, 101, 108, 108, 111]\n"
          ]
        }
      ]
    },
    {
      "cell_type": "code",
      "source": [
        "e = 3\n",
        "\n",
        "texto_cripto = (72**e) % (chave_publica)\n",
        "# texto_cripto = (int(numero[0])**e) % (chave_publica)\n",
        "\n",
        "print(texto_cripto) # 34\n",
        "print(\"chave_privada\",chave_privada,\"chave_publica\",chave_publica) # 9.8 ,35"
      ],
      "metadata": {
        "colab": {
          "base_uri": "https://localhost:8080/"
        },
        "id": "BkJe5rEDnvbs",
        "outputId": "61b4f155-8876-4da5-eac4-e9c367fc25d7"
      },
      "execution_count": null,
      "outputs": [
        {
          "output_type": "stream",
          "name": "stdout",
          "text": [
            "234\n",
            "chave_privada 235 chave_publica 391\n"
          ]
        }
      ]
    },
    {
      "cell_type": "code",
      "source": [
        "#texto = Decimal(texto_cripto**chave_privada)\n",
        "print(texto_cripto**chave_privada % chave_publica)\n"
      ],
      "metadata": {
        "colab": {
          "base_uri": "https://localhost:8080/"
        },
        "id": "gwjEc3HlpGvP",
        "outputId": "8557a1f5-3032-4616-909e-0c318459d977"
      },
      "execution_count": null,
      "outputs": [
        {
          "output_type": "stream",
          "name": "stdout",
          "text": [
            "72\n"
          ]
        }
      ]
    },
    {
      "cell_type": "markdown",
      "source": [
        "class"
      ],
      "metadata": {
        "id": "OrOEPiyoVYAZ"
      }
    },
    {
      "cell_type": "code",
      "source": [
        "class Rsa():\n",
        "  __mensagem = None\n",
        "  __chave_publica = 0\n",
        "  __phi=0\n",
        "  __e =0\n",
        "\n",
        "  __chave_privada = 0\n",
        "  __mensagem_em_numero =None\n",
        "  __mensagem_criptografada = None\n",
        "  __mensagem_descriptografada =None\n",
        "  def __init__(self,P,Q ,m):\n",
        "    self.__p = P\n",
        "    self.__q = Q\n",
        "    self.__mensagem = m\n",
        "\n",
        "    self.set_chave_publica()\n",
        "    self.calcular_phi()\n",
        "    self.criar_chave_privada()\n",
        "    self.mensagem_para_numero()\n",
        "    print(self)\n",
        "\n",
        "\n",
        "  def imprimir_mensagem(self):\n",
        "    print (\"mensagem em numero        \",self.__mensagem_em_numero)\n",
        "    print (\"mensagem em criptografa   \",self.__mensagem_criptografada)\n",
        "    print (\"mensagem em descriptografa\",self.__mensagem_descriptografada)\n",
        "  def __str__(self):\n",
        "\n",
        "    return'p {0} q {1} ch public {2} phi {3} ch privado {4}  e {5}'.format(self.__p,self.__q ,\n",
        "                                                self.__chave_publica ,self.__phi,\n",
        "                                                                 self.__chave_privada,self.__e\n",
        "                                                                                )\n",
        "\n",
        "  def set_chave_publica(self):\n",
        "    self.__chave_publica = self.__p*self.__q\n",
        "\n",
        "  def calcular_phi(self):\n",
        "    self.__phi = (self.__p-1)*(self.__q-1)\n",
        "\n",
        "  def mdc(self,a,b):\n",
        "    if(a==0):\n",
        "      return  b\n",
        "    return self.mdc(b % a,a)\n",
        "\n",
        "  def gera_e(self):\n",
        "    e=2\n",
        "    while e <self.__phi:\n",
        "      if(self.mdc(e,self.__phi)==1):\n",
        "        break\n",
        "      else:\n",
        "        e = e +1\n",
        "\n",
        "    self.__e = e\n",
        "\n",
        "  def criar_chave_privada(self):\n",
        "    k = 2\n",
        "    self.gera_e()\n",
        "\n",
        "    self.__chave_privada = (k*self.__phi+1)//self.__e\n",
        "\n",
        "\n",
        "\n",
        "  def mensagem_para_numero(self):\n",
        "    numero = 0\n",
        "\n",
        "    lista_mensagem_em_numero = []\n",
        "    for letra in self.__mensagem:\n",
        "      valor_ascii = ord(letra)\n",
        "      numero = valor_ascii\n",
        "      lista_mensagem_em_numero.append(numero)\n",
        "\n",
        "    self.__mensagem_em_numero = lista_mensagem_em_numero\n",
        "\n",
        "  def criptografada_mensagem_numero(self):\n",
        "    lista_criptografada =[]\n",
        "    for numero in self.__mensagem_em_numero:\n",
        "\n",
        "      num_cripto =((numero**self.__e) % (self.__chave_publica))\n",
        "\n",
        "      lista_criptografada.append(num_cripto)\n",
        "\n",
        "\n",
        "    self.__mensagem_criptografada = lista_criptografada\n",
        "\n",
        "  def descriptografa_mensagem_criptografa(self):\n",
        "    lista_descriptografa=[]\n",
        "    for numero in self.__mensagem_criptografada:\n",
        "      num_descripto = (numero**self.__chave_privada % self.__chave_publica)\n",
        "      lista_descriptografa.append(num_descripto)\n",
        "\n",
        "\n",
        "    self.numero_para_mensagem(lista_descriptografa)\n",
        "\n",
        "\n",
        "  def numero_para_mensagem(self,lista_descripto):\n",
        "    lista_mensagem=[]\n",
        "    for num in lista_descripto:\n",
        "      letra=chr(num)\n",
        "      lista_mensagem.append(letra)\n",
        "    mensagem =''.join(lista_mensagem)\n",
        "\n",
        "    self.__mensagem_descriptografada = mensagem\n",
        "\n",
        "  def get_chave_publica(self):\n",
        "    return self.__chave_publica\n",
        "\n",
        "p = 53\n",
        "q = 59\n",
        "\n",
        "criph = Rsa(p,q,'Arroz')\n",
        "\n",
        "criph.criptografada_mensagem_numero()\n",
        "criph.descriptografa_mensagem_criptografa()\n",
        "criph.imprimir_mensagem()\n"
      ],
      "metadata": {
        "colab": {
          "base_uri": "https://localhost:8080/"
        },
        "id": "aCemIjVxVZME",
        "outputId": "36544e71-58e6-49c1-a945-3a476d0a44ab"
      },
      "execution_count": 6,
      "outputs": [
        {
          "output_type": "stream",
          "name": "stdout",
          "text": [
            "p 53 q 59 ch public 3127 phi 3016 ch privado 2011  e 3\n",
            "mensagem em numero         [65, 114, 114, 111, 122]\n",
            "mensagem em criptografa    [2576, 2473, 2473, 1132, 2188]\n",
            "mensagem em descriptografa Arroz\n"
          ]
        },
        {
          "output_type": "execute_result",
          "data": {
            "text/plain": [
              "3127"
            ]
          },
          "metadata": {},
          "execution_count": 6
        }
      ]
    },
    {
      "cell_type": "code",
      "source": [
        "chave = criph.get_chave_publica()\n",
        "print(chave)\n",
        "\n",
        "def fatoracao(numero):\n",
        "    fatores = []\n",
        "    divisor = 2  # Começamos com o menor divisor primo\n",
        "\n",
        "    while numero > 1:\n",
        "        while numero % divisor == 0:\n",
        "            print(\"numero\",numero,\"divisor\",divisor,\"numero % divisor\",numero % divisor)\n",
        "            fatores.append(divisor)\n",
        "            numero //= divisor\n",
        "        divisor += 1  # Passamos para o próximo divisor\n",
        "\n",
        "    return fatores\n",
        "\n",
        "# Exemplo de uso da função\n",
        "numero = chave\n",
        "resultado = fatoracao(numero)\n",
        "print(f\"A fatoração de {numero} é:\", resultado)\n"
      ],
      "metadata": {
        "colab": {
          "base_uri": "https://localhost:8080/"
        },
        "id": "iXigb5UQRaKW",
        "outputId": "f0b14884-a2c6-4d42-b6dd-91d31b6fcd0e"
      },
      "execution_count": 11,
      "outputs": [
        {
          "output_type": "stream",
          "name": "stdout",
          "text": [
            "3127\n",
            "numero 3127 divisor 53 numero % divisor 0\n",
            "numero 59 divisor 59 numero % divisor 0\n",
            "A fatoração de 3127 é: [53, 59]\n"
          ]
        }
      ]
    }
  ]
}