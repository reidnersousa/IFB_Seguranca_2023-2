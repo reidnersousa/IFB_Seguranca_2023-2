{
  "nbformat": 4,
  "nbformat_minor": 0,
  "metadata": {
    "colab": {
      "provenance": [],
      "authorship_tag": "ABX9TyMYB0x7tHN7YkWBn1eEey5q",
      "include_colab_link": true
    },
    "kernelspec": {
      "name": "python3",
      "display_name": "Python 3"
    },
    "language_info": {
      "name": "python"
    }
  },
  "cells": [
    {
      "cell_type": "markdown",
      "metadata": {
        "id": "view-in-github",
        "colab_type": "text"
      },
      "source": [
        "<a href=\"https://colab.research.google.com/github/reidnersousa/IFB_Seguranca_2023-2/blob/main/RSA.ipynb\" target=\"_parent\"><img src=\"https://colab.research.google.com/assets/colab-badge.svg\" alt=\"Open In Colab\"/></a>"
      ]
    },
    {
      "cell_type": "code",
      "source": [
        "def mdc(a,b):\n",
        "  if(a==0):\n",
        "    return b\n",
        "  return mdc(b % a,a)\n",
        "\n",
        "def gera_e(phi):\n",
        "  e=2\n",
        "  while e <phi:\n",
        "    if(mdc(e,phi)==1):\n",
        "      break\n",
        "    else:\n",
        "      e = e + 1\n",
        "      print(e)\n",
        "  return e\n",
        "\n",
        "def gera_chave_privada(p,q):\n",
        "  phi = (p-1)*(q-1)\n",
        "  k =2\n",
        "  e=gera_e(phi)\n",
        "  chave_privada = (k *phi+1)//e\n",
        "  print(type(chave_privada))\n",
        "  return chave_privada\n"
      ],
      "metadata": {
        "id": "p2bxKIiiLTzv"
      },
      "execution_count": 72,
      "outputs": []
    },
    {
      "cell_type": "code",
      "source": [
        "\n",
        "\n",
        "# Crie números inteiros de tamanho arbitrário\n",
        "p = 17\n",
        "q = 23\n",
        "#chave_publica = Decimal(p*q)\n",
        "chave_publica = p*q\n",
        "phi=(p-1)*(q-1)\n",
        "chave_privada=gera_chave_privada(p,q)\n",
        "print(\"chave publica\", chave_publica,\"phi\",phi,\"chave privada\",chave_privada)\n",
        "print(\"tipo\", type(chave_publica),\"tipo\",type(phi),\"tipo\",type(chave_privada))\n"
      ],
      "metadata": {
        "colab": {
          "base_uri": "https://localhost:8080/"
        },
        "id": "3kg5yB2FMl_B",
        "outputId": "ce1c6ba2-7e6e-4380-e242-092deabcbfe9"
      },
      "execution_count": 67,
      "outputs": [
        {
          "output_type": "stream",
          "name": "stdout",
          "text": [
            "3\n",
            "<class 'int'>\n",
            "chave publica 391 phi 352 chave privada 235\n",
            "tipo <class 'int'> tipo <class 'int'> tipo <class 'int'>\n"
          ]
        }
      ]
    },
    {
      "cell_type": "code",
      "source": [
        "# Função para converter uma string em número usando a tabela ASCII\n",
        "def string_para_numero(string):\n",
        "    numero = 0\n",
        "    lista_numero=[]\n",
        "    for caractere in string:\n",
        "        valor_ascii = ord(caractere)\n",
        "        numero =valor_ascii  # A tabela ASCII possui 128 caracteres\n",
        "        lista_numero.append(numero)\n",
        "        print(numero)\n",
        "    return lista_numero\n",
        "\n",
        "# Exemplo de uso\n",
        "string = \"Hello\"\n",
        "numero = string_para_numero(string)\n",
        "print(\"String:\", string)\n",
        "print(\"Número:\", numero)\n"
      ],
      "metadata": {
        "colab": {
          "base_uri": "https://localhost:8080/"
        },
        "id": "4iD-UBlmjQHV",
        "outputId": "3bec2b1c-acb6-4562-b2d2-31408942862a"
      },
      "execution_count": 68,
      "outputs": [
        {
          "output_type": "stream",
          "name": "stdout",
          "text": [
            "72\n",
            "101\n",
            "108\n",
            "108\n",
            "111\n",
            "String: Hello\n",
            "Número: [72, 101, 108, 108, 111]\n"
          ]
        }
      ]
    },
    {
      "cell_type": "code",
      "source": [
        "e = 3\n",
        "\n",
        "texto_cripto = (72**e) % (chave_publica)\n",
        "# texto_cripto = (int(numero[0])**e) % (chave_publica)\n",
        "\n",
        "print(texto_cripto) # 34\n",
        "print(\"chave_privada\",chave_privada,\"chave_publica\",chave_publica) # 9.8 ,35"
      ],
      "metadata": {
        "colab": {
          "base_uri": "https://localhost:8080/"
        },
        "id": "BkJe5rEDnvbs",
        "outputId": "61b4f155-8876-4da5-eac4-e9c367fc25d7"
      },
      "execution_count": 69,
      "outputs": [
        {
          "output_type": "stream",
          "name": "stdout",
          "text": [
            "234\n",
            "chave_privada 235 chave_publica 391\n"
          ]
        }
      ]
    },
    {
      "cell_type": "code",
      "source": [
        "#texto = Decimal(texto_cripto**chave_privada)\n",
        "print(texto_cripto**chave_privada % chave_publica)\n"
      ],
      "metadata": {
        "colab": {
          "base_uri": "https://localhost:8080/"
        },
        "id": "gwjEc3HlpGvP",
        "outputId": "8557a1f5-3032-4616-909e-0c318459d977"
      },
      "execution_count": 71,
      "outputs": [
        {
          "output_type": "stream",
          "name": "stdout",
          "text": [
            "72\n"
          ]
        }
      ]
    },
    {
      "cell_type": "markdown",
      "source": [
        "class"
      ],
      "metadata": {
        "id": "OrOEPiyoVYAZ"
      }
    },
    {
      "cell_type": "code",
      "source": [
        "class Rsa():\n",
        "  __mensagem = None\n",
        "  __chave_publica = 0\n",
        "  __phi=0\n",
        "\n",
        "  __chave_privada = 0\n",
        "  __mensagem_em_numero =None\n",
        "  def __init__(self,P,Q ,m):\n",
        "    self.__p = P\n",
        "    self.__q = Q\n",
        "    self.__mensagem = m\n",
        "\n",
        "    self.set_chave_publica()\n",
        "    self.calcular_phi()\n",
        "    self.criar_chave_privada()\n",
        "    self.mensagem_para_numero()\n",
        "    self.imprimir_mensagem_em_numero()\n",
        "\n",
        "  def imprimir_mensagem_em_numero(self):\n",
        "    print (self.__mensagem_em_numero)\n",
        "  def __str__(self):\n",
        "\n",
        "    return'p {0} q {1} ch public {2} phi {3} ch privado {4} mesangem {5}'.format(self.__p,self.__q ,\n",
        "                                                self.__chave_publica ,self.__phi,\n",
        "                                                                 self.__chave_privada,self.__mensagem\n",
        "                                                                                )\n",
        "\n",
        "  def set_chave_publica(self):\n",
        "    self.__chave_publica = self.__p*self.__q\n",
        "\n",
        "  def calcular_phi(self):\n",
        "    self.__phi = (self.__p-1)*(self.__q-1)\n",
        "\n",
        "  def gera_e(self):\n",
        "    e=2\n",
        "    while e <self.__phi:\n",
        "      if(self.mdc(e,self.__phi)==1):\n",
        "        break\n",
        "      else:\n",
        "        e = e +1\n",
        "\n",
        "    return e\n",
        "  def mdc(self,a,b):\n",
        "    if(a==0):\n",
        "      return  b\n",
        "    return mdc(b % a,a)\n",
        "  def criar_chave_privada(self):\n",
        "    k = 2\n",
        "    e = self.gera_e()\n",
        "\n",
        "    self.__chave_privada = (k*self.__phi+1)//e\n",
        "\n",
        "\n",
        "\n",
        "  def mensagem_para_numero(self):\n",
        "    numero = 0\n",
        "\n",
        "    lista_mensagem_em_numero = []\n",
        "    for letra in self.__mensagem:\n",
        "      valor_ascii = ord(letra)\n",
        "      numero = valor_ascii\n",
        "      lista_mensagem_em_numero.append(numero)\n",
        "\n",
        "    self.__mensagem_em_numero = lista_mensagem_em_numero\n",
        "\n",
        "  def criptografada_mensagem_numero(self):\n",
        "    lista_criptografada =[]\n",
        "    for numero in self.__mensagem_em_numero:\n",
        "      print(numero)\n",
        "     # num_cripto =(numero**self.)\n",
        "\n",
        "\n",
        "\n",
        "\n",
        "criph = Rsa(p,q,'abc')\n",
        "print(criph)\n",
        "criph.criptografada_mensagem_numero()\n",
        "\n",
        "\n",
        "\n",
        "print(criph)"
      ],
      "metadata": {
        "colab": {
          "base_uri": "https://localhost:8080/"
        },
        "id": "aCemIjVxVZME",
        "outputId": "c3d3522b-f8f2-4b24-dd8f-79a8592ea057"
      },
      "execution_count": 136,
      "outputs": [
        {
          "output_type": "stream",
          "name": "stdout",
          "text": [
            "[97, 98, 99]\n",
            "p 17 q 23 ch public 391 phi 352 ch privado 235 mesangem abc\n",
            "97\n",
            "98\n",
            "99\n",
            "p 17 q 23 ch public 391 phi 352 ch privado 235 mesangem abc\n"
          ]
        }
      ]
    }
  ]
}